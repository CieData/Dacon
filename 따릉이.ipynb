{
 "cells": [
  {
   "cell_type": "code",
   "execution_count": 8,
   "id": "1f1a0a4c",
   "metadata": {},
   "outputs": [],
   "source": [
    "import pandas as pd\n",
    "import pycaret\n",
    "from missingpy import MissForest\n",
    "import warnings\n",
    "warnings.filterwarnings(action='ignore')\n",
    "from catboost import CatBoostRegressor, Pool\n",
    "from sklearn.model_selection import KFold\n",
    "from sklearn.preprocessing import LabelEncoder\n",
    "from sklearn.ensemble import RandomForestRegressor\n",
    "from sklearn.model_selection import train_test_split\n",
    "from sklearn.metrics import mean_squared_error\n",
    "from sklearn.pipeline import make_pipeline\n",
    "import matplotlib.pyplot as plt\n",
    "import seaborn as sns\n",
    "\n",
    "from imblearn.combine import SMOTETomek,SMOTEENN\n",
    "from imblearn.over_sampling import ADASYN,SMOTE,RandomOverSampler"
   ]
  },
  {
   "cell_type": "code",
   "execution_count": 9,
   "id": "fbd05506",
   "metadata": {},
   "outputs": [],
   "source": [
    "train = pd.read_csv('train.csv')\n",
    "test = pd.read_csv('test.csv')"
   ]
  },
  {
   "cell_type": "markdown",
   "id": "793d409b",
   "metadata": {},
   "source": [
    "## id 제거 및 컬럼명 변경"
   ]
  },
  {
   "cell_type": "code",
   "execution_count": 10,
   "id": "28c9d21f",
   "metadata": {},
   "outputs": [],
   "source": [
    "del train['id']\n",
    "del test['id']\n",
    "\n",
    "train.columns = ['시간', '기온', '비', '풍속', '습도', '가시성', '오존', '미세먼지', '초미세먼지', 'count']\n",
    "test.columns = ['시간', '기온', '비', '풍속', '습도', '가시성', '오존', '미세먼지', '초미세먼지']"
   ]
  },
  {
   "cell_type": "markdown",
   "id": "d6b316d2",
   "metadata": {},
   "source": [
    "## 데이터 확인"
   ]
  },
  {
   "cell_type": "code",
   "execution_count": 255,
   "id": "108d2f06",
   "metadata": {},
   "outputs": [
    {
     "name": "stdout",
     "output_type": "stream",
     "text": [
      "<class 'pandas.core.frame.DataFrame'>\n",
      "RangeIndex: 1459 entries, 0 to 1458\n",
      "Data columns (total 10 columns):\n",
      " #   Column  Non-Null Count  Dtype  \n",
      "---  ------  --------------  -----  \n",
      " 0   시간      1459 non-null   int64  \n",
      " 1   기온      1457 non-null   float64\n",
      " 2   비       1457 non-null   float64\n",
      " 3   풍속      1450 non-null   float64\n",
      " 4   습도      1457 non-null   float64\n",
      " 5   가시성     1457 non-null   float64\n",
      " 6   오존      1383 non-null   float64\n",
      " 7   미세먼지    1369 non-null   float64\n",
      " 8   초미세먼지   1342 non-null   float64\n",
      " 9   count   1459 non-null   float64\n",
      "dtypes: float64(9), int64(1)\n",
      "memory usage: 114.1 KB\n"
     ]
    }
   ],
   "source": [
    "train.info()"
   ]
  },
  {
   "cell_type": "code",
   "execution_count": 256,
   "id": "82ba0b4c",
   "metadata": {},
   "outputs": [
    {
     "data": {
      "text/html": [
       "<div>\n",
       "<style scoped>\n",
       "    .dataframe tbody tr th:only-of-type {\n",
       "        vertical-align: middle;\n",
       "    }\n",
       "\n",
       "    .dataframe tbody tr th {\n",
       "        vertical-align: top;\n",
       "    }\n",
       "\n",
       "    .dataframe thead th {\n",
       "        text-align: right;\n",
       "    }\n",
       "</style>\n",
       "<table border=\"1\" class=\"dataframe\">\n",
       "  <thead>\n",
       "    <tr style=\"text-align: right;\">\n",
       "      <th></th>\n",
       "      <th>시간</th>\n",
       "      <th>기온</th>\n",
       "      <th>비</th>\n",
       "      <th>풍속</th>\n",
       "      <th>습도</th>\n",
       "      <th>가시성</th>\n",
       "      <th>오존</th>\n",
       "      <th>미세먼지</th>\n",
       "      <th>초미세먼지</th>\n",
       "      <th>count</th>\n",
       "    </tr>\n",
       "  </thead>\n",
       "  <tbody>\n",
       "    <tr>\n",
       "      <th>count</th>\n",
       "      <td>1459.000000</td>\n",
       "      <td>1457.000000</td>\n",
       "      <td>1457.000000</td>\n",
       "      <td>1450.000000</td>\n",
       "      <td>1457.000000</td>\n",
       "      <td>1457.000000</td>\n",
       "      <td>1383.000000</td>\n",
       "      <td>1369.000000</td>\n",
       "      <td>1342.000000</td>\n",
       "      <td>1459.000000</td>\n",
       "    </tr>\n",
       "    <tr>\n",
       "      <th>mean</th>\n",
       "      <td>11.493489</td>\n",
       "      <td>16.717433</td>\n",
       "      <td>0.031572</td>\n",
       "      <td>2.479034</td>\n",
       "      <td>52.231297</td>\n",
       "      <td>1405.216884</td>\n",
       "      <td>0.039149</td>\n",
       "      <td>57.168736</td>\n",
       "      <td>30.327124</td>\n",
       "      <td>108.563400</td>\n",
       "    </tr>\n",
       "    <tr>\n",
       "      <th>std</th>\n",
       "      <td>6.922790</td>\n",
       "      <td>5.239150</td>\n",
       "      <td>0.174917</td>\n",
       "      <td>1.378265</td>\n",
       "      <td>20.370387</td>\n",
       "      <td>583.131708</td>\n",
       "      <td>0.019509</td>\n",
       "      <td>31.771019</td>\n",
       "      <td>14.713252</td>\n",
       "      <td>82.631733</td>\n",
       "    </tr>\n",
       "    <tr>\n",
       "      <th>min</th>\n",
       "      <td>0.000000</td>\n",
       "      <td>3.100000</td>\n",
       "      <td>0.000000</td>\n",
       "      <td>0.000000</td>\n",
       "      <td>7.000000</td>\n",
       "      <td>78.000000</td>\n",
       "      <td>0.003000</td>\n",
       "      <td>9.000000</td>\n",
       "      <td>8.000000</td>\n",
       "      <td>1.000000</td>\n",
       "    </tr>\n",
       "    <tr>\n",
       "      <th>25%</th>\n",
       "      <td>5.500000</td>\n",
       "      <td>12.800000</td>\n",
       "      <td>0.000000</td>\n",
       "      <td>1.400000</td>\n",
       "      <td>36.000000</td>\n",
       "      <td>879.000000</td>\n",
       "      <td>0.025500</td>\n",
       "      <td>36.000000</td>\n",
       "      <td>20.000000</td>\n",
       "      <td>37.000000</td>\n",
       "    </tr>\n",
       "    <tr>\n",
       "      <th>50%</th>\n",
       "      <td>11.000000</td>\n",
       "      <td>16.600000</td>\n",
       "      <td>0.000000</td>\n",
       "      <td>2.300000</td>\n",
       "      <td>51.000000</td>\n",
       "      <td>1577.000000</td>\n",
       "      <td>0.039000</td>\n",
       "      <td>51.000000</td>\n",
       "      <td>26.000000</td>\n",
       "      <td>96.000000</td>\n",
       "    </tr>\n",
       "    <tr>\n",
       "      <th>75%</th>\n",
       "      <td>17.500000</td>\n",
       "      <td>20.100000</td>\n",
       "      <td>0.000000</td>\n",
       "      <td>3.400000</td>\n",
       "      <td>69.000000</td>\n",
       "      <td>1994.000000</td>\n",
       "      <td>0.052000</td>\n",
       "      <td>69.000000</td>\n",
       "      <td>37.000000</td>\n",
       "      <td>150.000000</td>\n",
       "    </tr>\n",
       "    <tr>\n",
       "      <th>max</th>\n",
       "      <td>23.000000</td>\n",
       "      <td>30.000000</td>\n",
       "      <td>1.000000</td>\n",
       "      <td>8.000000</td>\n",
       "      <td>99.000000</td>\n",
       "      <td>2000.000000</td>\n",
       "      <td>0.125000</td>\n",
       "      <td>269.000000</td>\n",
       "      <td>90.000000</td>\n",
       "      <td>431.000000</td>\n",
       "    </tr>\n",
       "  </tbody>\n",
       "</table>\n",
       "</div>"
      ],
      "text/plain": [
       "                시간           기온            비           풍속           습도  \\\n",
       "count  1459.000000  1457.000000  1457.000000  1450.000000  1457.000000   \n",
       "mean     11.493489    16.717433     0.031572     2.479034    52.231297   \n",
       "std       6.922790     5.239150     0.174917     1.378265    20.370387   \n",
       "min       0.000000     3.100000     0.000000     0.000000     7.000000   \n",
       "25%       5.500000    12.800000     0.000000     1.400000    36.000000   \n",
       "50%      11.000000    16.600000     0.000000     2.300000    51.000000   \n",
       "75%      17.500000    20.100000     0.000000     3.400000    69.000000   \n",
       "max      23.000000    30.000000     1.000000     8.000000    99.000000   \n",
       "\n",
       "               가시성           오존         미세먼지        초미세먼지        count  \n",
       "count  1457.000000  1383.000000  1369.000000  1342.000000  1459.000000  \n",
       "mean   1405.216884     0.039149    57.168736    30.327124   108.563400  \n",
       "std     583.131708     0.019509    31.771019    14.713252    82.631733  \n",
       "min      78.000000     0.003000     9.000000     8.000000     1.000000  \n",
       "25%     879.000000     0.025500    36.000000    20.000000    37.000000  \n",
       "50%    1577.000000     0.039000    51.000000    26.000000    96.000000  \n",
       "75%    1994.000000     0.052000    69.000000    37.000000   150.000000  \n",
       "max    2000.000000     0.125000   269.000000    90.000000   431.000000  "
      ]
     },
     "execution_count": 256,
     "metadata": {},
     "output_type": "execute_result"
    }
   ],
   "source": [
    "train.describe()"
   ]
  },
  {
   "cell_type": "code",
   "execution_count": 257,
   "id": "a68d85c4",
   "metadata": {},
   "outputs": [
    {
     "name": "stdout",
     "output_type": "stream",
     "text": [
      "<class 'pandas.core.frame.DataFrame'>\n",
      "RangeIndex: 715 entries, 0 to 714\n",
      "Data columns (total 9 columns):\n",
      " #   Column  Non-Null Count  Dtype  \n",
      "---  ------  --------------  -----  \n",
      " 0   시간      715 non-null    int64  \n",
      " 1   기온      714 non-null    float64\n",
      " 2   비       714 non-null    float64\n",
      " 3   풍속      714 non-null    float64\n",
      " 4   습도      714 non-null    float64\n",
      " 5   가시성     714 non-null    float64\n",
      " 6   오존      680 non-null    float64\n",
      " 7   미세먼지    678 non-null    float64\n",
      " 8   초미세먼지   679 non-null    float64\n",
      "dtypes: float64(8), int64(1)\n",
      "memory usage: 50.4 KB\n"
     ]
    }
   ],
   "source": [
    "test.info()"
   ]
  },
  {
   "cell_type": "code",
   "execution_count": 258,
   "id": "f34d564f",
   "metadata": {},
   "outputs": [
    {
     "data": {
      "text/html": [
       "<div>\n",
       "<style scoped>\n",
       "    .dataframe tbody tr th:only-of-type {\n",
       "        vertical-align: middle;\n",
       "    }\n",
       "\n",
       "    .dataframe tbody tr th {\n",
       "        vertical-align: top;\n",
       "    }\n",
       "\n",
       "    .dataframe thead th {\n",
       "        text-align: right;\n",
       "    }\n",
       "</style>\n",
       "<table border=\"1\" class=\"dataframe\">\n",
       "  <thead>\n",
       "    <tr style=\"text-align: right;\">\n",
       "      <th></th>\n",
       "      <th>시간</th>\n",
       "      <th>기온</th>\n",
       "      <th>비</th>\n",
       "      <th>풍속</th>\n",
       "      <th>습도</th>\n",
       "      <th>가시성</th>\n",
       "      <th>오존</th>\n",
       "      <th>미세먼지</th>\n",
       "      <th>초미세먼지</th>\n",
       "    </tr>\n",
       "  </thead>\n",
       "  <tbody>\n",
       "    <tr>\n",
       "      <th>count</th>\n",
       "      <td>715.000000</td>\n",
       "      <td>714.000000</td>\n",
       "      <td>714.000000</td>\n",
       "      <td>714.000000</td>\n",
       "      <td>714.000000</td>\n",
       "      <td>714.000000</td>\n",
       "      <td>680.000000</td>\n",
       "      <td>678.000000</td>\n",
       "      <td>679.000000</td>\n",
       "    </tr>\n",
       "    <tr>\n",
       "      <th>mean</th>\n",
       "      <td>11.472727</td>\n",
       "      <td>23.263305</td>\n",
       "      <td>0.051821</td>\n",
       "      <td>2.388515</td>\n",
       "      <td>56.668067</td>\n",
       "      <td>1359.494398</td>\n",
       "      <td>0.041196</td>\n",
       "      <td>36.930678</td>\n",
       "      <td>24.939617</td>\n",
       "    </tr>\n",
       "    <tr>\n",
       "      <th>std</th>\n",
       "      <td>6.928427</td>\n",
       "      <td>4.039645</td>\n",
       "      <td>0.221820</td>\n",
       "      <td>1.171270</td>\n",
       "      <td>19.661880</td>\n",
       "      <td>614.171870</td>\n",
       "      <td>0.020656</td>\n",
       "      <td>12.641503</td>\n",
       "      <td>10.075857</td>\n",
       "    </tr>\n",
       "    <tr>\n",
       "      <th>min</th>\n",
       "      <td>0.000000</td>\n",
       "      <td>14.600000</td>\n",
       "      <td>0.000000</td>\n",
       "      <td>0.000000</td>\n",
       "      <td>16.000000</td>\n",
       "      <td>126.000000</td>\n",
       "      <td>0.003000</td>\n",
       "      <td>9.000000</td>\n",
       "      <td>7.000000</td>\n",
       "    </tr>\n",
       "    <tr>\n",
       "      <th>25%</th>\n",
       "      <td>5.500000</td>\n",
       "      <td>20.300000</td>\n",
       "      <td>0.000000</td>\n",
       "      <td>1.500000</td>\n",
       "      <td>42.000000</td>\n",
       "      <td>807.250000</td>\n",
       "      <td>0.027000</td>\n",
       "      <td>28.000000</td>\n",
       "      <td>17.000000</td>\n",
       "    </tr>\n",
       "    <tr>\n",
       "      <th>50%</th>\n",
       "      <td>11.000000</td>\n",
       "      <td>22.900000</td>\n",
       "      <td>0.000000</td>\n",
       "      <td>2.300000</td>\n",
       "      <td>55.000000</td>\n",
       "      <td>1489.000000</td>\n",
       "      <td>0.039000</td>\n",
       "      <td>35.000000</td>\n",
       "      <td>24.000000</td>\n",
       "    </tr>\n",
       "    <tr>\n",
       "      <th>75%</th>\n",
       "      <td>17.000000</td>\n",
       "      <td>26.375000</td>\n",
       "      <td>0.000000</td>\n",
       "      <td>3.275000</td>\n",
       "      <td>73.750000</td>\n",
       "      <td>2000.000000</td>\n",
       "      <td>0.052250</td>\n",
       "      <td>45.000000</td>\n",
       "      <td>31.000000</td>\n",
       "    </tr>\n",
       "    <tr>\n",
       "      <th>max</th>\n",
       "      <td>23.000000</td>\n",
       "      <td>33.800000</td>\n",
       "      <td>1.000000</td>\n",
       "      <td>5.900000</td>\n",
       "      <td>100.000000</td>\n",
       "      <td>2000.000000</td>\n",
       "      <td>0.138000</td>\n",
       "      <td>94.000000</td>\n",
       "      <td>69.000000</td>\n",
       "    </tr>\n",
       "  </tbody>\n",
       "</table>\n",
       "</div>"
      ],
      "text/plain": [
       "               시간          기온           비          풍속          습도  \\\n",
       "count  715.000000  714.000000  714.000000  714.000000  714.000000   \n",
       "mean    11.472727   23.263305    0.051821    2.388515   56.668067   \n",
       "std      6.928427    4.039645    0.221820    1.171270   19.661880   \n",
       "min      0.000000   14.600000    0.000000    0.000000   16.000000   \n",
       "25%      5.500000   20.300000    0.000000    1.500000   42.000000   \n",
       "50%     11.000000   22.900000    0.000000    2.300000   55.000000   \n",
       "75%     17.000000   26.375000    0.000000    3.275000   73.750000   \n",
       "max     23.000000   33.800000    1.000000    5.900000  100.000000   \n",
       "\n",
       "               가시성          오존        미세먼지       초미세먼지  \n",
       "count   714.000000  680.000000  678.000000  679.000000  \n",
       "mean   1359.494398    0.041196   36.930678   24.939617  \n",
       "std     614.171870    0.020656   12.641503   10.075857  \n",
       "min     126.000000    0.003000    9.000000    7.000000  \n",
       "25%     807.250000    0.027000   28.000000   17.000000  \n",
       "50%    1489.000000    0.039000   35.000000   24.000000  \n",
       "75%    2000.000000    0.052250   45.000000   31.000000  \n",
       "max    2000.000000    0.138000   94.000000   69.000000  "
      ]
     },
     "execution_count": 258,
     "metadata": {},
     "output_type": "execute_result"
    }
   ],
   "source": [
    "test.describe()"
   ]
  },
  {
   "cell_type": "markdown",
   "id": "56e842e6",
   "metadata": {},
   "source": [
    "## 시간 빼고 다 결측치인 두 행 제거"
   ]
  },
  {
   "cell_type": "code",
   "execution_count": 269,
   "id": "0b31f8f7",
   "metadata": {},
   "outputs": [],
   "source": [
    "train.drop([934,1035], inplace = True)\n",
    "train = train.reset_index(drop = True)"
   ]
  },
  {
   "cell_type": "markdown",
   "id": "80e376a9",
   "metadata": {},
   "source": [
    "## 결측치 MissForest로 채우기"
   ]
  },
  {
   "cell_type": "code",
   "execution_count": 316,
   "id": "5540cc4c",
   "metadata": {},
   "outputs": [],
   "source": [
    "train['count'] = np.log1p(train['count'])"
   ]
  },
  {
   "cell_type": "code",
   "execution_count": 317,
   "id": "0a7ac843",
   "metadata": {},
   "outputs": [
    {
     "name": "stdout",
     "output_type": "stream",
     "text": [
      "Iteration: 0\n",
      "Iteration: 1\n",
      "Iteration: 2\n",
      "Iteration: 0\n",
      "Iteration: 1\n",
      "Iteration: 2\n",
      "Iteration: 3\n",
      "Iteration: 4\n",
      "Iteration: 5\n",
      "Iteration: 6\n"
     ]
    }
   ],
   "source": [
    "train['비'] = train['비'].astype('category')\n",
    "test['비'] = test['비'].astype('category')\n",
    "train_cols = list(train.columns)\n",
    "test_cols = list(test.columns)\n",
    "train_cat_cols = [train.columns.get_loc(col) for col in train.select_dtypes(['category']).columns.tolist()]\n",
    "test_cat_cols = [test.columns.get_loc(col) for col in test.select_dtypes(['category']).columns.tolist()]\n",
    "\n",
    "imputer = MissForest(n_estimators=1000)\n",
    "train_imputed = imputer.fit_transform(train, cat_vars=[2])\n",
    "test_imputed = imputer.fit_transform(test, cat_vars=[2])\n",
    "\n",
    "train = pd.DataFrame(train_imputed, columns=train_cols)\n",
    "test = pd.DataFrame(test_imputed, columns=test_cols)"
   ]
  },
  {
   "cell_type": "code",
   "execution_count": 318,
   "id": "add7dfa6",
   "metadata": {},
   "outputs": [
    {
     "data": {
      "text/html": [
       "<style type=\"text/css\">\n",
       "#T_7db04 th {\n",
       "  text-align: left;\n",
       "}\n",
       "#T_7db04_row0_col0, #T_7db04_row1_col0, #T_7db04_row1_col1, #T_7db04_row1_col2, #T_7db04_row1_col3, #T_7db04_row1_col4, #T_7db04_row1_col5, #T_7db04_row1_col6, #T_7db04_row2_col0, #T_7db04_row2_col1, #T_7db04_row2_col2, #T_7db04_row2_col3, #T_7db04_row2_col4, #T_7db04_row2_col5, #T_7db04_row2_col6, #T_7db04_row3_col0, #T_7db04_row3_col1, #T_7db04_row3_col2, #T_7db04_row3_col3, #T_7db04_row3_col4, #T_7db04_row3_col5, #T_7db04_row3_col6, #T_7db04_row4_col0, #T_7db04_row4_col1, #T_7db04_row4_col2, #T_7db04_row4_col3, #T_7db04_row4_col4, #T_7db04_row4_col5, #T_7db04_row4_col6, #T_7db04_row5_col0, #T_7db04_row5_col1, #T_7db04_row5_col2, #T_7db04_row5_col3, #T_7db04_row5_col4, #T_7db04_row5_col5, #T_7db04_row5_col6, #T_7db04_row6_col0, #T_7db04_row6_col1, #T_7db04_row6_col2, #T_7db04_row6_col3, #T_7db04_row6_col4, #T_7db04_row6_col5, #T_7db04_row6_col6, #T_7db04_row7_col0, #T_7db04_row7_col1, #T_7db04_row7_col2, #T_7db04_row7_col3, #T_7db04_row7_col4, #T_7db04_row7_col5, #T_7db04_row7_col6, #T_7db04_row8_col0, #T_7db04_row8_col1, #T_7db04_row8_col2, #T_7db04_row8_col3, #T_7db04_row8_col4, #T_7db04_row8_col5, #T_7db04_row8_col6, #T_7db04_row9_col0, #T_7db04_row9_col1, #T_7db04_row9_col2, #T_7db04_row9_col3, #T_7db04_row9_col4, #T_7db04_row9_col5, #T_7db04_row9_col6, #T_7db04_row10_col0, #T_7db04_row10_col1, #T_7db04_row10_col2, #T_7db04_row10_col3, #T_7db04_row10_col4, #T_7db04_row10_col5, #T_7db04_row10_col6, #T_7db04_row11_col0, #T_7db04_row11_col1, #T_7db04_row11_col2, #T_7db04_row11_col3, #T_7db04_row11_col4, #T_7db04_row11_col5, #T_7db04_row11_col6, #T_7db04_row12_col0, #T_7db04_row12_col1, #T_7db04_row12_col2, #T_7db04_row12_col3, #T_7db04_row12_col4, #T_7db04_row12_col5, #T_7db04_row12_col6, #T_7db04_row13_col0, #T_7db04_row13_col1, #T_7db04_row13_col2, #T_7db04_row13_col3, #T_7db04_row13_col4, #T_7db04_row13_col5, #T_7db04_row13_col6, #T_7db04_row14_col0, #T_7db04_row14_col1, #T_7db04_row14_col2, #T_7db04_row14_col3, #T_7db04_row14_col4, #T_7db04_row14_col5, #T_7db04_row14_col6, #T_7db04_row15_col0, #T_7db04_row15_col1, #T_7db04_row15_col2, #T_7db04_row15_col3, #T_7db04_row15_col4, #T_7db04_row15_col5, #T_7db04_row15_col6, #T_7db04_row16_col0, #T_7db04_row16_col1, #T_7db04_row16_col2, #T_7db04_row16_col3, #T_7db04_row16_col4, #T_7db04_row16_col5, #T_7db04_row16_col6, #T_7db04_row17_col0, #T_7db04_row17_col1, #T_7db04_row17_col2, #T_7db04_row17_col3, #T_7db04_row17_col4, #T_7db04_row17_col5, #T_7db04_row17_col6, #T_7db04_row18_col0, #T_7db04_row18_col1, #T_7db04_row18_col2, #T_7db04_row18_col3, #T_7db04_row18_col4, #T_7db04_row18_col5, #T_7db04_row18_col6, #T_7db04_row19_col0, #T_7db04_row19_col1, #T_7db04_row19_col2, #T_7db04_row19_col3, #T_7db04_row19_col4, #T_7db04_row19_col5, #T_7db04_row19_col6 {\n",
       "  text-align: left;\n",
       "}\n",
       "#T_7db04_row0_col1, #T_7db04_row0_col2, #T_7db04_row0_col3, #T_7db04_row0_col4, #T_7db04_row0_col5, #T_7db04_row0_col6 {\n",
       "  text-align: left;\n",
       "  background-color: yellow;\n",
       "}\n",
       "#T_7db04_row0_col7, #T_7db04_row1_col7, #T_7db04_row2_col7, #T_7db04_row3_col7, #T_7db04_row4_col7, #T_7db04_row5_col7, #T_7db04_row7_col7, #T_7db04_row8_col7, #T_7db04_row9_col7, #T_7db04_row10_col7, #T_7db04_row11_col7, #T_7db04_row12_col7, #T_7db04_row13_col7, #T_7db04_row14_col7, #T_7db04_row15_col7, #T_7db04_row16_col7, #T_7db04_row17_col7, #T_7db04_row18_col7, #T_7db04_row19_col7 {\n",
       "  text-align: left;\n",
       "  background-color: lightgrey;\n",
       "}\n",
       "#T_7db04_row6_col7 {\n",
       "  text-align: left;\n",
       "  background-color: yellow;\n",
       "  background-color: lightgrey;\n",
       "}\n",
       "</style>\n",
       "<table id=\"T_7db04\">\n",
       "  <thead>\n",
       "    <tr>\n",
       "      <th class=\"blank level0\" >&nbsp;</th>\n",
       "      <th id=\"T_7db04_level0_col0\" class=\"col_heading level0 col0\" >Model</th>\n",
       "      <th id=\"T_7db04_level0_col1\" class=\"col_heading level0 col1\" >MAE</th>\n",
       "      <th id=\"T_7db04_level0_col2\" class=\"col_heading level0 col2\" >MSE</th>\n",
       "      <th id=\"T_7db04_level0_col3\" class=\"col_heading level0 col3\" >RMSE</th>\n",
       "      <th id=\"T_7db04_level0_col4\" class=\"col_heading level0 col4\" >R2</th>\n",
       "      <th id=\"T_7db04_level0_col5\" class=\"col_heading level0 col5\" >RMSLE</th>\n",
       "      <th id=\"T_7db04_level0_col6\" class=\"col_heading level0 col6\" >MAPE</th>\n",
       "      <th id=\"T_7db04_level0_col7\" class=\"col_heading level0 col7\" >TT (Sec)</th>\n",
       "    </tr>\n",
       "  </thead>\n",
       "  <tbody>\n",
       "    <tr>\n",
       "      <th id=\"T_7db04_level0_row0\" class=\"row_heading level0 row0\" >catboost</th>\n",
       "      <td id=\"T_7db04_row0_col0\" class=\"data row0 col0\" >CatBoost Regressor</td>\n",
       "      <td id=\"T_7db04_row0_col1\" class=\"data row0 col1\" >0.2979</td>\n",
       "      <td id=\"T_7db04_row0_col2\" class=\"data row0 col2\" >0.2012</td>\n",
       "      <td id=\"T_7db04_row0_col3\" class=\"data row0 col3\" >0.4326</td>\n",
       "      <td id=\"T_7db04_row0_col4\" class=\"data row0 col4\" >0.8016</td>\n",
       "      <td id=\"T_7db04_row0_col5\" class=\"data row0 col5\" >0.1032</td>\n",
       "      <td id=\"T_7db04_row0_col6\" class=\"data row0 col6\" >0.0955</td>\n",
       "      <td id=\"T_7db04_row0_col7\" class=\"data row0 col7\" >0.3320</td>\n",
       "    </tr>\n",
       "    <tr>\n",
       "      <th id=\"T_7db04_level0_row1\" class=\"row_heading level0 row1\" >et</th>\n",
       "      <td id=\"T_7db04_row1_col0\" class=\"data row1 col0\" >Extra Trees Regressor</td>\n",
       "      <td id=\"T_7db04_row1_col1\" class=\"data row1 col1\" >0.2986</td>\n",
       "      <td id=\"T_7db04_row1_col2\" class=\"data row1 col2\" >0.2099</td>\n",
       "      <td id=\"T_7db04_row1_col3\" class=\"data row1 col3\" >0.4418</td>\n",
       "      <td id=\"T_7db04_row1_col4\" class=\"data row1 col4\" >0.7925</td>\n",
       "      <td id=\"T_7db04_row1_col5\" class=\"data row1 col5\" >0.1043</td>\n",
       "      <td id=\"T_7db04_row1_col6\" class=\"data row1 col6\" >0.0956</td>\n",
       "      <td id=\"T_7db04_row1_col7\" class=\"data row1 col7\" >0.0470</td>\n",
       "    </tr>\n",
       "    <tr>\n",
       "      <th id=\"T_7db04_level0_row2\" class=\"row_heading level0 row2\" >lightgbm</th>\n",
       "      <td id=\"T_7db04_row2_col0\" class=\"data row2 col0\" >Light Gradient Boosting Machine</td>\n",
       "      <td id=\"T_7db04_row2_col1\" class=\"data row2 col1\" >0.3137</td>\n",
       "      <td id=\"T_7db04_row2_col2\" class=\"data row2 col2\" >0.2283</td>\n",
       "      <td id=\"T_7db04_row2_col3\" class=\"data row2 col3\" >0.4626</td>\n",
       "      <td id=\"T_7db04_row2_col4\" class=\"data row2 col4\" >0.7718</td>\n",
       "      <td id=\"T_7db04_row2_col5\" class=\"data row2 col5\" >0.1098</td>\n",
       "      <td id=\"T_7db04_row2_col6\" class=\"data row2 col6\" >0.0999</td>\n",
       "      <td id=\"T_7db04_row2_col7\" class=\"data row2 col7\" >0.0077</td>\n",
       "    </tr>\n",
       "    <tr>\n",
       "      <th id=\"T_7db04_level0_row3\" class=\"row_heading level0 row3\" >rf</th>\n",
       "      <td id=\"T_7db04_row3_col0\" class=\"data row3 col0\" >Random Forest Regressor</td>\n",
       "      <td id=\"T_7db04_row3_col1\" class=\"data row3 col1\" >0.3162</td>\n",
       "      <td id=\"T_7db04_row3_col2\" class=\"data row3 col2\" >0.2458</td>\n",
       "      <td id=\"T_7db04_row3_col3\" class=\"data row3 col3\" >0.4763</td>\n",
       "      <td id=\"T_7db04_row3_col4\" class=\"data row3 col4\" >0.7574</td>\n",
       "      <td id=\"T_7db04_row3_col5\" class=\"data row3 col5\" >0.1133</td>\n",
       "      <td id=\"T_7db04_row3_col6\" class=\"data row3 col6\" >0.1025</td>\n",
       "      <td id=\"T_7db04_row3_col7\" class=\"data row3 col7\" >0.0663</td>\n",
       "    </tr>\n",
       "    <tr>\n",
       "      <th id=\"T_7db04_level0_row4\" class=\"row_heading level0 row4\" >gbr</th>\n",
       "      <td id=\"T_7db04_row4_col0\" class=\"data row4 col0\" >Gradient Boosting Regressor</td>\n",
       "      <td id=\"T_7db04_row4_col1\" class=\"data row4 col1\" >0.3219</td>\n",
       "      <td id=\"T_7db04_row4_col2\" class=\"data row4 col2\" >0.2548</td>\n",
       "      <td id=\"T_7db04_row4_col3\" class=\"data row4 col3\" >0.4852</td>\n",
       "      <td id=\"T_7db04_row4_col4\" class=\"data row4 col4\" >0.7500</td>\n",
       "      <td id=\"T_7db04_row4_col5\" class=\"data row4 col5\" >0.1172</td>\n",
       "      <td id=\"T_7db04_row4_col6\" class=\"data row4 col6\" >0.1046</td>\n",
       "      <td id=\"T_7db04_row4_col7\" class=\"data row4 col7\" >0.0170</td>\n",
       "    </tr>\n",
       "    <tr>\n",
       "      <th id=\"T_7db04_level0_row5\" class=\"row_heading level0 row5\" >xgboost</th>\n",
       "      <td id=\"T_7db04_row5_col0\" class=\"data row5 col0\" >Extreme Gradient Boosting</td>\n",
       "      <td id=\"T_7db04_row5_col1\" class=\"data row5 col1\" >0.3204</td>\n",
       "      <td id=\"T_7db04_row5_col2\" class=\"data row5 col2\" >0.2484</td>\n",
       "      <td id=\"T_7db04_row5_col3\" class=\"data row5 col3\" >0.4835</td>\n",
       "      <td id=\"T_7db04_row5_col4\" class=\"data row5 col4\" >0.7450</td>\n",
       "      <td id=\"T_7db04_row5_col5\" class=\"data row5 col5\" >0.1176</td>\n",
       "      <td id=\"T_7db04_row5_col6\" class=\"data row5 col6\" >0.1014</td>\n",
       "      <td id=\"T_7db04_row5_col7\" class=\"data row5 col7\" >0.0187</td>\n",
       "    </tr>\n",
       "    <tr>\n",
       "      <th id=\"T_7db04_level0_row6\" class=\"row_heading level0 row6\" >ridge</th>\n",
       "      <td id=\"T_7db04_row6_col0\" class=\"data row6 col0\" >Ridge Regression</td>\n",
       "      <td id=\"T_7db04_row6_col1\" class=\"data row6 col1\" >0.4732</td>\n",
       "      <td id=\"T_7db04_row6_col2\" class=\"data row6 col2\" >0.4370</td>\n",
       "      <td id=\"T_7db04_row6_col3\" class=\"data row6 col3\" >0.6487</td>\n",
       "      <td id=\"T_7db04_row6_col4\" class=\"data row6 col4\" >0.5575</td>\n",
       "      <td id=\"T_7db04_row6_col5\" class=\"data row6 col5\" >0.1497</td>\n",
       "      <td id=\"T_7db04_row6_col6\" class=\"data row6 col6\" >0.1501</td>\n",
       "      <td id=\"T_7db04_row6_col7\" class=\"data row6 col7\" >0.0023</td>\n",
       "    </tr>\n",
       "    <tr>\n",
       "      <th id=\"T_7db04_level0_row7\" class=\"row_heading level0 row7\" >br</th>\n",
       "      <td id=\"T_7db04_row7_col0\" class=\"data row7 col0\" >Bayesian Ridge</td>\n",
       "      <td id=\"T_7db04_row7_col1\" class=\"data row7 col1\" >0.4734</td>\n",
       "      <td id=\"T_7db04_row7_col2\" class=\"data row7 col2\" >0.4377</td>\n",
       "      <td id=\"T_7db04_row7_col3\" class=\"data row7 col3\" >0.6491</td>\n",
       "      <td id=\"T_7db04_row7_col4\" class=\"data row7 col4\" >0.5572</td>\n",
       "      <td id=\"T_7db04_row7_col5\" class=\"data row7 col5\" >0.1498</td>\n",
       "      <td id=\"T_7db04_row7_col6\" class=\"data row7 col6\" >0.1504</td>\n",
       "      <td id=\"T_7db04_row7_col7\" class=\"data row7 col7\" >0.0030</td>\n",
       "    </tr>\n",
       "    <tr>\n",
       "      <th id=\"T_7db04_level0_row8\" class=\"row_heading level0 row8\" >lr</th>\n",
       "      <td id=\"T_7db04_row8_col0\" class=\"data row8 col0\" >Linear Regression</td>\n",
       "      <td id=\"T_7db04_row8_col1\" class=\"data row8 col1\" >0.4733</td>\n",
       "      <td id=\"T_7db04_row8_col2\" class=\"data row8 col2\" >0.4362</td>\n",
       "      <td id=\"T_7db04_row8_col3\" class=\"data row8 col3\" >0.6487</td>\n",
       "      <td id=\"T_7db04_row8_col4\" class=\"data row8 col4\" >0.5566</td>\n",
       "      <td id=\"T_7db04_row8_col5\" class=\"data row8 col5\" >0.1493</td>\n",
       "      <td id=\"T_7db04_row8_col6\" class=\"data row8 col6\" >0.1494</td>\n",
       "      <td id=\"T_7db04_row8_col7\" class=\"data row8 col7\" >0.0027</td>\n",
       "    </tr>\n",
       "    <tr>\n",
       "      <th id=\"T_7db04_level0_row9\" class=\"row_heading level0 row9\" >dt</th>\n",
       "      <td id=\"T_7db04_row9_col0\" class=\"data row9 col0\" >Decision Tree Regressor</td>\n",
       "      <td id=\"T_7db04_row9_col1\" class=\"data row9 col1\" >0.4081</td>\n",
       "      <td id=\"T_7db04_row9_col2\" class=\"data row9 col2\" >0.4425</td>\n",
       "      <td id=\"T_7db04_row9_col3\" class=\"data row9 col3\" >0.6421</td>\n",
       "      <td id=\"T_7db04_row9_col4\" class=\"data row9 col4\" >0.5525</td>\n",
       "      <td id=\"T_7db04_row9_col5\" class=\"data row9 col5\" >0.1535</td>\n",
       "      <td id=\"T_7db04_row9_col6\" class=\"data row9 col6\" >0.1274</td>\n",
       "      <td id=\"T_7db04_row9_col7\" class=\"data row9 col7\" >0.0033</td>\n",
       "    </tr>\n",
       "    <tr>\n",
       "      <th id=\"T_7db04_level0_row10\" class=\"row_heading level0 row10\" >ada</th>\n",
       "      <td id=\"T_7db04_row10_col0\" class=\"data row10 col0\" >AdaBoost Regressor</td>\n",
       "      <td id=\"T_7db04_row10_col1\" class=\"data row10 col1\" >0.5344</td>\n",
       "      <td id=\"T_7db04_row10_col2\" class=\"data row10 col2\" >0.4547</td>\n",
       "      <td id=\"T_7db04_row10_col3\" class=\"data row10 col3\" >0.6651</td>\n",
       "      <td id=\"T_7db04_row10_col4\" class=\"data row10 col4\" >0.5358</td>\n",
       "      <td id=\"T_7db04_row10_col5\" class=\"data row10 col5\" >0.1455</td>\n",
       "      <td id=\"T_7db04_row10_col6\" class=\"data row10 col6\" >0.1514</td>\n",
       "      <td id=\"T_7db04_row10_col7\" class=\"data row10 col7\" >0.0127</td>\n",
       "    </tr>\n",
       "    <tr>\n",
       "      <th id=\"T_7db04_level0_row11\" class=\"row_heading level0 row11\" >en</th>\n",
       "      <td id=\"T_7db04_row11_col0\" class=\"data row11 col0\" >Elastic Net</td>\n",
       "      <td id=\"T_7db04_row11_col1\" class=\"data row11 col1\" >0.5072</td>\n",
       "      <td id=\"T_7db04_row11_col2\" class=\"data row11 col2\" >0.5114</td>\n",
       "      <td id=\"T_7db04_row11_col3\" class=\"data row11 col3\" >0.6926</td>\n",
       "      <td id=\"T_7db04_row11_col4\" class=\"data row11 col4\" >0.5024</td>\n",
       "      <td id=\"T_7db04_row11_col5\" class=\"data row11 col5\" >0.1609</td>\n",
       "      <td id=\"T_7db04_row11_col6\" class=\"data row11 col6\" >0.1709</td>\n",
       "      <td id=\"T_7db04_row11_col7\" class=\"data row11 col7\" >0.0027</td>\n",
       "    </tr>\n",
       "    <tr>\n",
       "      <th id=\"T_7db04_level0_row12\" class=\"row_heading level0 row12\" >lasso</th>\n",
       "      <td id=\"T_7db04_row12_col0\" class=\"data row12 col0\" >Lasso Regression</td>\n",
       "      <td id=\"T_7db04_row12_col1\" class=\"data row12 col1\" >0.5365</td>\n",
       "      <td id=\"T_7db04_row12_col2\" class=\"data row12 col2\" >0.5470</td>\n",
       "      <td id=\"T_7db04_row12_col3\" class=\"data row12 col3\" >0.7194</td>\n",
       "      <td id=\"T_7db04_row12_col4\" class=\"data row12 col4\" >0.4661</td>\n",
       "      <td id=\"T_7db04_row12_col5\" class=\"data row12 col5\" >0.1659</td>\n",
       "      <td id=\"T_7db04_row12_col6\" class=\"data row12 col6\" >0.1790</td>\n",
       "      <td id=\"T_7db04_row12_col7\" class=\"data row12 col7\" >0.0027</td>\n",
       "    </tr>\n",
       "    <tr>\n",
       "      <th id=\"T_7db04_level0_row13\" class=\"row_heading level0 row13\" >huber</th>\n",
       "      <td id=\"T_7db04_row13_col0\" class=\"data row13 col0\" >Huber Regressor</td>\n",
       "      <td id=\"T_7db04_row13_col1\" class=\"data row13 col1\" >0.5199</td>\n",
       "      <td id=\"T_7db04_row13_col2\" class=\"data row13 col2\" >0.5589</td>\n",
       "      <td id=\"T_7db04_row13_col3\" class=\"data row13 col3\" >0.7244</td>\n",
       "      <td id=\"T_7db04_row13_col4\" class=\"data row13 col4\" >0.4496</td>\n",
       "      <td id=\"T_7db04_row13_col5\" class=\"data row13 col5\" >0.1650</td>\n",
       "      <td id=\"T_7db04_row13_col6\" class=\"data row13 col6\" >0.1721</td>\n",
       "      <td id=\"T_7db04_row13_col7\" class=\"data row13 col7\" >0.0070</td>\n",
       "    </tr>\n",
       "    <tr>\n",
       "      <th id=\"T_7db04_level0_row14\" class=\"row_heading level0 row14\" >lar</th>\n",
       "      <td id=\"T_7db04_row14_col0\" class=\"data row14 col0\" >Least Angle Regression</td>\n",
       "      <td id=\"T_7db04_row14_col1\" class=\"data row14 col1\" >0.5493</td>\n",
       "      <td id=\"T_7db04_row14_col2\" class=\"data row14 col2\" >0.5369</td>\n",
       "      <td id=\"T_7db04_row14_col3\" class=\"data row14 col3\" >0.7235</td>\n",
       "      <td id=\"T_7db04_row14_col4\" class=\"data row14 col4\" >0.4359</td>\n",
       "      <td id=\"T_7db04_row14_col5\" class=\"data row14 col5\" >0.1629</td>\n",
       "      <td id=\"T_7db04_row14_col6\" class=\"data row14 col6\" >0.1659</td>\n",
       "      <td id=\"T_7db04_row14_col7\" class=\"data row14 col7\" >0.0027</td>\n",
       "    </tr>\n",
       "    <tr>\n",
       "      <th id=\"T_7db04_level0_row15\" class=\"row_heading level0 row15\" >omp</th>\n",
       "      <td id=\"T_7db04_row15_col0\" class=\"data row15 col0\" >Orthogonal Matching Pursuit</td>\n",
       "      <td id=\"T_7db04_row15_col1\" class=\"data row15 col1\" >0.6072</td>\n",
       "      <td id=\"T_7db04_row15_col2\" class=\"data row15 col2\" >0.6734</td>\n",
       "      <td id=\"T_7db04_row15_col3\" class=\"data row15 col3\" >0.8003</td>\n",
       "      <td id=\"T_7db04_row15_col4\" class=\"data row15 col4\" >0.3400</td>\n",
       "      <td id=\"T_7db04_row15_col5\" class=\"data row15 col5\" >0.1808</td>\n",
       "      <td id=\"T_7db04_row15_col6\" class=\"data row15 col6\" >0.2016</td>\n",
       "      <td id=\"T_7db04_row15_col7\" class=\"data row15 col7\" >0.0027</td>\n",
       "    </tr>\n",
       "    <tr>\n",
       "      <th id=\"T_7db04_level0_row16\" class=\"row_heading level0 row16\" >knn</th>\n",
       "      <td id=\"T_7db04_row16_col0\" class=\"data row16 col0\" >K Neighbors Regressor</td>\n",
       "      <td id=\"T_7db04_row16_col1\" class=\"data row16 col1\" >0.6281</td>\n",
       "      <td id=\"T_7db04_row16_col2\" class=\"data row16 col2\" >0.7225</td>\n",
       "      <td id=\"T_7db04_row16_col3\" class=\"data row16 col3\" >0.8350</td>\n",
       "      <td id=\"T_7db04_row16_col4\" class=\"data row16 col4\" >0.2648</td>\n",
       "      <td id=\"T_7db04_row16_col5\" class=\"data row16 col5\" >0.1854</td>\n",
       "      <td id=\"T_7db04_row16_col6\" class=\"data row16 col6\" >0.1956</td>\n",
       "      <td id=\"T_7db04_row16_col7\" class=\"data row16 col7\" >0.0040</td>\n",
       "    </tr>\n",
       "    <tr>\n",
       "      <th id=\"T_7db04_level0_row17\" class=\"row_heading level0 row17\" >llar</th>\n",
       "      <td id=\"T_7db04_row17_col0\" class=\"data row17 col0\" >Lasso Least Angle Regression</td>\n",
       "      <td id=\"T_7db04_row17_col1\" class=\"data row17 col1\" >0.8117</td>\n",
       "      <td id=\"T_7db04_row17_col2\" class=\"data row17 col2\" >1.0247</td>\n",
       "      <td id=\"T_7db04_row17_col3\" class=\"data row17 col3\" >1.0018</td>\n",
       "      <td id=\"T_7db04_row17_col4\" class=\"data row17 col4\" >-0.0341</td>\n",
       "      <td id=\"T_7db04_row17_col5\" class=\"data row17 col5\" >0.2174</td>\n",
       "      <td id=\"T_7db04_row17_col6\" class=\"data row17 col6\" >0.2544</td>\n",
       "      <td id=\"T_7db04_row17_col7\" class=\"data row17 col7\" >0.0027</td>\n",
       "    </tr>\n",
       "    <tr>\n",
       "      <th id=\"T_7db04_level0_row18\" class=\"row_heading level0 row18\" >dummy</th>\n",
       "      <td id=\"T_7db04_row18_col0\" class=\"data row18 col0\" >Dummy Regressor</td>\n",
       "      <td id=\"T_7db04_row18_col1\" class=\"data row18 col1\" >0.8117</td>\n",
       "      <td id=\"T_7db04_row18_col2\" class=\"data row18 col2\" >1.0247</td>\n",
       "      <td id=\"T_7db04_row18_col3\" class=\"data row18 col3\" >1.0018</td>\n",
       "      <td id=\"T_7db04_row18_col4\" class=\"data row18 col4\" >-0.0341</td>\n",
       "      <td id=\"T_7db04_row18_col5\" class=\"data row18 col5\" >0.2174</td>\n",
       "      <td id=\"T_7db04_row18_col6\" class=\"data row18 col6\" >0.2544</td>\n",
       "      <td id=\"T_7db04_row18_col7\" class=\"data row18 col7\" >0.0027</td>\n",
       "    </tr>\n",
       "    <tr>\n",
       "      <th id=\"T_7db04_level0_row19\" class=\"row_heading level0 row19\" >par</th>\n",
       "      <td id=\"T_7db04_row19_col0\" class=\"data row19 col0\" >Passive Aggressive Regressor</td>\n",
       "      <td id=\"T_7db04_row19_col1\" class=\"data row19 col1\" >1.1211</td>\n",
       "      <td id=\"T_7db04_row19_col2\" class=\"data row19 col2\" >2.6915</td>\n",
       "      <td id=\"T_7db04_row19_col3\" class=\"data row19 col3\" >1.3338</td>\n",
       "      <td id=\"T_7db04_row19_col4\" class=\"data row19 col4\" >-1.4430</td>\n",
       "      <td id=\"T_7db04_row19_col5\" class=\"data row19 col5\" >0.2752</td>\n",
       "      <td id=\"T_7db04_row19_col6\" class=\"data row19 col6\" >0.3209</td>\n",
       "      <td id=\"T_7db04_row19_col7\" class=\"data row19 col7\" >0.0033</td>\n",
       "    </tr>\n",
       "  </tbody>\n",
       "</table>\n"
      ],
      "text/plain": [
       "<pandas.io.formats.style.Styler at 0x202cf200b20>"
      ]
     },
     "metadata": {},
     "output_type": "display_data"
    }
   ],
   "source": [
    "from pycaret.regression import *\n",
    "exp = setup(train,'count')\n",
    "a = compare_models(fold=30,cross_validation=True)"
   ]
  },
  {
   "cell_type": "code",
   "execution_count": null,
   "id": "ed79166c",
   "metadata": {},
   "outputs": [],
   "source": []
  },
  {
   "cell_type": "markdown",
   "id": "8d5f6c00",
   "metadata": {},
   "source": [
    "# 비"
   ]
  },
  {
   "cell_type": "code",
   "execution_count": 243,
   "id": "9d3d8110",
   "metadata": {},
   "outputs": [],
   "source": [
    "test.loc[test.비.isna(),'비'] = 0\n",
    "train.비 = train.비.astype('int64')\n",
    "test.비 = test.비.astype('int64')"
   ]
  },
  {
   "cell_type": "code",
   "execution_count": 241,
   "id": "fb5391a8",
   "metadata": {},
   "outputs": [],
   "source": []
  },
  {
   "cell_type": "markdown",
   "id": "747eeac2",
   "metadata": {},
   "source": [
    "## 시간"
   ]
  },
  {
   "cell_type": "code",
   "execution_count": 11,
   "id": "6bcd6f27",
   "metadata": {},
   "outputs": [
    {
     "data": {
      "text/plain": [
       "시간\n",
       "5      13.114754\n",
       "4      13.524590\n",
       "3      21.377049\n",
       "6      24.557377\n",
       "2      31.409836\n",
       "1      47.606557\n",
       "7      62.360656\n",
       "0      71.766667\n",
       "10     78.803279\n",
       "11     88.327869\n",
       "9      93.540984\n",
       "23    103.852459\n",
       "12    111.901639\n",
       "13    120.050000\n",
       "14    134.590164\n",
       "8     136.688525\n",
       "22    148.245902\n",
       "15    152.967213\n",
       "20    164.868852\n",
       "21    168.816667\n",
       "16    169.100000\n",
       "17    187.133333\n",
       "19    201.606557\n",
       "18    262.163934\n",
       "Name: count, dtype: float64"
      ]
     },
     "execution_count": 11,
     "metadata": {},
     "output_type": "execute_result"
    }
   ],
   "source": [
    "train.groupby('시간')['count'].agg('mean').sort_values()"
   ]
  },
  {
   "cell_type": "code",
   "execution_count": 251,
   "id": "33387200",
   "metadata": {},
   "outputs": [],
   "source": [
    "t = train.groupby('시간')['count'].agg('mean').sort_values()\n",
    "for i, d in enumerate(list(t.index)):\n",
    "    train.loc[train['시간'] == d, '시간'] = chr(i + 97)\n",
    "    test.loc[test['시간'] == d, '시간'] = chr(i + 97)\n",
    "def time(x):\n",
    "    return ord(x) - 96\n",
    "train.시간 = train.시간.apply(time)\n",
    "test.시간 = test.시간.apply(time)"
   ]
  },
  {
   "cell_type": "code",
   "execution_count": 103,
   "id": "e93b297f",
   "metadata": {},
   "outputs": [],
   "source": [
    "def time2(x):\n",
    "    if x == 1 or x == 2:\n",
    "        x = 1\n",
    "    elif x == 3 or x == 4:\n",
    "        x = 2\n",
    "    elif x == 8 or x == 9:\n",
    "        x = 8\n",
    "    elif x == 10 or x == 11:\n",
    "        x = 10\n",
    "    elif x == 15 or x == 16:\n",
    "        x = 15\n",
    "    elif x == 17 or x == 18:\n",
    "        x = 17\n",
    "    elif x == 19 or x == 20 or x == 21:\n",
    "        x = 19\n",
    "    return x\n",
    "train.시간 = train.시간.apply(time2)\n",
    "test.시간 = test.시간.apply(time2)"
   ]
  },
  {
   "cell_type": "code",
   "execution_count": 104,
   "id": "179d680c",
   "metadata": {},
   "outputs": [],
   "source": [
    "le = LabelEncoder()"
   ]
  },
  {
   "cell_type": "code",
   "execution_count": 105,
   "id": "de0f252d",
   "metadata": {},
   "outputs": [],
   "source": [
    "train.시간 = le.fit_transform(train.시간)\n",
    "test.시간 = le.transform(test.시간)"
   ]
  },
  {
   "cell_type": "code",
   "execution_count": 106,
   "id": "973dc3b8",
   "metadata": {},
   "outputs": [
    {
     "data": {
      "text/plain": [
       "시간\n",
       "0      13.319672\n",
       "1      22.967213\n",
       "2      31.409836\n",
       "3      47.606557\n",
       "4      62.360656\n",
       "5      75.616667\n",
       "6      90.934426\n",
       "7     103.852459\n",
       "8     111.901639\n",
       "9     120.050000\n",
       "10    135.639344\n",
       "11    150.606557\n",
       "12    167.580110\n",
       "13    187.133333\n",
       "14    201.606557\n",
       "15    266.516667\n",
       "Name: count, dtype: float64"
      ]
     },
     "execution_count": 106,
     "metadata": {},
     "output_type": "execute_result"
    }
   ],
   "source": [
    "train.groupby('시간')['count'].agg('mean').sort_values()"
   ]
  },
  {
   "cell_type": "markdown",
   "id": "8d8b17af",
   "metadata": {},
   "source": [
    "## 기온"
   ]
  },
  {
   "cell_type": "code",
   "execution_count": 107,
   "id": "24d3532d",
   "metadata": {},
   "outputs": [],
   "source": [
    "def temp(x):\n",
    "    if x <= 14.6:\n",
    "        x = 14.6\n",
    "    return x\n",
    "train.기온 = train.기온.apply(temp)"
   ]
  },
  {
   "cell_type": "code",
   "execution_count": 108,
   "id": "b6cb33fa",
   "metadata": {},
   "outputs": [],
   "source": [
    "def temp1(x):\n",
    "    x //= 2.5\n",
    "    return x\n",
    "train.기온 = train.기온.apply(temp1)\n",
    "test.기온 = test.기온.apply(temp1)"
   ]
  },
  {
   "cell_type": "code",
   "execution_count": 109,
   "id": "c39367b4",
   "metadata": {},
   "outputs": [],
   "source": [
    "def temp2(x):\n",
    "    if x <= 3:\n",
    "        x = 2\n",
    "    elif x >= 9:\n",
    "        x = 9\n",
    "    return x\n",
    "train.기온 = train.기온.apply(temp2)\n",
    "test.기온 = test.기온.apply(temp2)"
   ]
  },
  {
   "cell_type": "code",
   "execution_count": 110,
   "id": "f42aba35",
   "metadata": {},
   "outputs": [],
   "source": [
    "train.기온 = le.fit_transform(train.기온)\n",
    "test.기온 = le.transform(test.기온)"
   ]
  },
  {
   "cell_type": "code",
   "execution_count": 111,
   "id": "2c97c7ab",
   "metadata": {},
   "outputs": [
    {
     "data": {
      "text/plain": [
       "기온\n",
       "0     59.784965\n",
       "1     90.045267\n",
       "2    121.164179\n",
       "3    167.108974\n",
       "4    200.619266\n",
       "Name: count, dtype: float64"
      ]
     },
     "execution_count": 111,
     "metadata": {},
     "output_type": "execute_result"
    }
   ],
   "source": [
    "train.groupby('기온')['count'].agg('mean').sort_values()"
   ]
  },
  {
   "cell_type": "markdown",
   "id": "b90affd0",
   "metadata": {},
   "source": [
    "## 풍속"
   ]
  },
  {
   "cell_type": "code",
   "execution_count": 113,
   "id": "aedb379e",
   "metadata": {},
   "outputs": [],
   "source": [
    "def wind(x):\n",
    "    if x >= 5.9:\n",
    "        x = 5.9\n",
    "    return x\n",
    "train.풍속 = train.풍속.apply(wind)"
   ]
  },
  {
   "cell_type": "code",
   "execution_count": 114,
   "id": "3a332ef5",
   "metadata": {},
   "outputs": [],
   "source": [
    "def wind1(x):\n",
    "    x //= 1\n",
    "    return x\n",
    "train.풍속 = train.풍속.apply(wind1)\n",
    "test.풍속 = test.풍속.apply(wind1)"
   ]
  },
  {
   "cell_type": "code",
   "execution_count": 115,
   "id": "591b55a8",
   "metadata": {},
   "outputs": [],
   "source": [
    "t = train.groupby('풍속')['count'].agg('mean').sort_values()\n",
    "for i, d in enumerate(list(t.index)):\n",
    "    train.loc[train['풍속'] == d, '풍속'] = chr(i + 97)\n",
    "    test.loc[test['풍속'] == d, '풍속'] = chr(i + 97)\n",
    "train.풍속 = train.풍속.apply(time)\n",
    "test.풍속 = test.풍속.apply(time)"
   ]
  },
  {
   "cell_type": "code",
   "execution_count": 116,
   "id": "f280dfff",
   "metadata": {},
   "outputs": [],
   "source": [
    "def wind2(x):\n",
    "    if x == 6:\n",
    "        x -= 1\n",
    "    return x\n",
    "train.풍속 = train.풍속.apply(wind2)\n",
    "test.풍속 = test.풍속.apply(wind2)"
   ]
  },
  {
   "cell_type": "code",
   "execution_count": 117,
   "id": "29189963",
   "metadata": {},
   "outputs": [
    {
     "data": {
      "text/plain": [
       "풍속\n",
       "1     53.408867\n",
       "2     74.550964\n",
       "3    108.151282\n",
       "4    143.575439\n",
       "5    172.925926\n",
       "Name: count, dtype: float64"
      ]
     },
     "execution_count": 117,
     "metadata": {},
     "output_type": "execute_result"
    }
   ],
   "source": [
    "train.groupby('풍속')['count'].agg('mean').sort_values()"
   ]
  },
  {
   "cell_type": "markdown",
   "id": "a9c106ac",
   "metadata": {},
   "source": [
    "## 습도"
   ]
  },
  {
   "cell_type": "code",
   "execution_count": 119,
   "id": "ff76c655",
   "metadata": {},
   "outputs": [],
   "source": [
    "def humi(x):\n",
    "    if x <= 16:\n",
    "        x = 16\n",
    "    return x\n",
    "train.습도 = train.습도.apply(humi)"
   ]
  },
  {
   "cell_type": "code",
   "execution_count": 120,
   "id": "b7c404b5",
   "metadata": {},
   "outputs": [],
   "source": [
    "def humi1(x):\n",
    "    x //= 10.1\n",
    "    return x\n",
    "train.습도 = train.습도.apply(humi1)\n",
    "test.습도 = test.습도.apply(humi1)"
   ]
  },
  {
   "cell_type": "code",
   "execution_count": 121,
   "id": "70ea69a3",
   "metadata": {},
   "outputs": [],
   "source": [
    "t = train.groupby('습도')['count'].agg('mean').sort_values()\n",
    "for i, d in enumerate(list(t.index)):\n",
    "    train.loc[train['습도'] == d, '습도'] = chr(i + 97)\n",
    "    test.loc[test['습도'] == d, '습도'] = chr(i + 97)\n",
    "train.습도 = train.습도.apply(time)\n",
    "test.습도 = test.습도.apply(time)"
   ]
  },
  {
   "cell_type": "code",
   "execution_count": 122,
   "id": "12f9635c",
   "metadata": {},
   "outputs": [],
   "source": [
    "def humi2(x):\n",
    "    if x == 1:\n",
    "        x += 1\n",
    "    elif x == 9:\n",
    "        x -= 1\n",
    "    return x\n",
    "train.습도 = train.습도.apply(humi2)\n",
    "test.습도 = test.습도.apply(humi2)"
   ]
  },
  {
   "cell_type": "code",
   "execution_count": 123,
   "id": "b538351f",
   "metadata": {},
   "outputs": [],
   "source": [
    "train.습도 = le.fit_transform(train.습도)\n",
    "test.습도 = le.transform(test.습도)"
   ]
  },
  {
   "cell_type": "markdown",
   "id": "50950cb6",
   "metadata": {},
   "source": [
    "## 가시성"
   ]
  },
  {
   "cell_type": "code",
   "execution_count": 124,
   "id": "85969d78",
   "metadata": {},
   "outputs": [],
   "source": [
    "def see(x):\n",
    "    if x <= 126:\n",
    "        x = 126\n",
    "    return x\n",
    "train.가시성 = train.가시성.apply(see)"
   ]
  },
  {
   "cell_type": "code",
   "execution_count": 125,
   "id": "f1c1d378",
   "metadata": {},
   "outputs": [],
   "source": [
    "def see1(x):\n",
    "    x //= 100\n",
    "    return x\n",
    "train.가시성 = train.가시성.apply(see1)\n",
    "test.가시성 = test.가시성.apply(see1)"
   ]
  },
  {
   "cell_type": "code",
   "execution_count": 126,
   "id": "858d651e",
   "metadata": {},
   "outputs": [],
   "source": [
    "t = train.groupby('가시성')['count'].agg('mean').sort_values()\n",
    "for i, d in enumerate(list(t.index)):\n",
    "    train.loc[train['가시성'] == d, '가시성'] = chr(i + 97)\n",
    "    test.loc[test['가시성'] == d, '가시성'] = chr(i + 97)\n",
    "train.가시성 = train.가시성.apply(time)\n",
    "test.가시성 = test.가시성.apply(time)"
   ]
  },
  {
   "cell_type": "code",
   "execution_count": null,
   "id": "606e4931",
   "metadata": {},
   "outputs": [],
   "source": []
  },
  {
   "cell_type": "code",
   "execution_count": null,
   "id": "a4a70e51",
   "metadata": {},
   "outputs": [],
   "source": []
  },
  {
   "cell_type": "markdown",
   "id": "74603f9d",
   "metadata": {},
   "source": [
    "## 오존"
   ]
  },
  {
   "cell_type": "code",
   "execution_count": null,
   "id": "6f0e091f",
   "metadata": {},
   "outputs": [],
   "source": []
  },
  {
   "cell_type": "code",
   "execution_count": null,
   "id": "c3d0c680",
   "metadata": {},
   "outputs": [],
   "source": []
  },
  {
   "cell_type": "markdown",
   "id": "4b660fe8",
   "metadata": {},
   "source": [
    "## 미세먼지, 초미세먼지"
   ]
  },
  {
   "cell_type": "code",
   "execution_count": 127,
   "id": "9f3a7c39",
   "metadata": {},
   "outputs": [],
   "source": [
    "def dust(x):\n",
    "    x //= 10\n",
    "    return x\n",
    "train.미세먼지 = train.미세먼지.apply(dust)\n",
    "test.미세먼지 = test.미세먼지.apply(dust)\n",
    "train.초미세먼지 = train.초미세먼지.apply(dust)\n",
    "test.초미세먼지 = test.초미세먼지.apply(dust)"
   ]
  },
  {
   "cell_type": "code",
   "execution_count": 128,
   "id": "08ba834e",
   "metadata": {},
   "outputs": [],
   "source": [
    "t = train.groupby('미세먼지')['count'].agg('mean').sort_values()\n",
    "for i, d in enumerate(list(t.index)):\n",
    "    train.loc[train['미세먼지'] == d, '미세먼지'] = chr(i + 97)\n",
    "    test.loc[test['미세먼지'] == d, '미세먼지'] = chr(i + 97)\n",
    "train.미세먼지 = train.미세먼지.apply(time)\n",
    "test.미세먼지 = test.미세먼지.apply(time)\n",
    "\n",
    "t1 = train.groupby('초미세먼지')['count'].agg('mean').sort_values()\n",
    "for i, d in enumerate(list(t1.index)):\n",
    "    train.loc[train['초미세먼지'] == d, '초미세먼지'] = chr(i + 97)\n",
    "    test.loc[test['초미세먼지'] == d, '초미세먼지'] = chr(i + 97)\n",
    "train.초미세먼지 = train.초미세먼지.apply(time)\n",
    "test.초미세먼지 = test.초미세먼지.apply(time)"
   ]
  },
  {
   "cell_type": "code",
   "execution_count": 244,
   "id": "e23a6626",
   "metadata": {},
   "outputs": [],
   "source": [
    "for df in [train,test]:\n",
    "    for i in cat:\n",
    "        df[i] = df[i].astype('int64')\n",
    "train['count'] = train['count'].astype('int64')"
   ]
  },
  {
   "cell_type": "code",
   "execution_count": 262,
   "id": "60db7abd",
   "metadata": {},
   "outputs": [],
   "source": [
    "x = train.drop(['count'], axis = 1)\n",
    "y = train['count']"
   ]
  },
  {
   "cell_type": "code",
   "execution_count": 256,
   "id": "d676068d",
   "metadata": {},
   "outputs": [],
   "source": [
    "sub = pd.read_csv('submission.csv')"
   ]
  },
  {
   "cell_type": "code",
   "execution_count": 269,
   "id": "7afd435e",
   "metadata": {},
   "outputs": [],
   "source": [
    "n_est = 2000\n",
    "seed = 42\n",
    "n_fold = 5\n",
    "\n",
    "target = 'count'\n",
    "X = train.drop(target, axis=1)\n",
    "y = train[target]\n",
    "X_test = test"
   ]
  },
  {
   "cell_type": "code",
   "execution_count": 273,
   "id": "d5d8db55",
   "metadata": {},
   "outputs": [],
   "source": [
    "kfold = KFold(n_splits=n_fold, shuffle=True, random_state=seed)\n",
    "folds=[]\n",
    "for train_idx, valid_idx in kfold.split(X, y):\n",
    "        folds.append((train_idx, valid_idx))\n",
    "\n",
    "cat_pred = np.zeros((X.shape[0]))\n",
    "cat_pred_test = np.zeros((X_test.shape[0]))\n",
    "\n",
    "cat = ['시간', '기온', '비', '풍속', '습도', '가시성', '미세먼지', '초미세먼지']"
   ]
  },
  {
   "cell_type": "code",
   "execution_count": 275,
   "id": "e740795f",
   "metadata": {},
   "outputs": [
    {
     "name": "stdout",
     "output_type": "stream",
     "text": [
      "\n",
      "----------------- Fold 0 -----------------\n",
      "\n",
      "Learning rate set to 0.052157\n",
      "0:\tlearn: 79.6201771\ttest: 81.8679719\tbest: 81.8679719 (0)\ttotal: 30.2ms\tremaining: 30.2s\n",
      "100:\tlearn: 37.9568995\ttest: 39.7618480\tbest: 39.7618480 (100)\ttotal: 3.87s\tremaining: 34.4s\n",
      "200:\tlearn: 33.2198195\ttest: 38.4726662\tbest: 38.4641053 (195)\ttotal: 8.33s\tremaining: 33.1s\n",
      "300:\tlearn: 30.0540917\ttest: 38.2625171\tbest: 38.1884238 (282)\ttotal: 13s\tremaining: 30.1s\n",
      "Stopped by overfitting detector  (100 iterations wait)\n",
      "\n",
      "bestTest = 38.1884238\n",
      "bestIteration = 282\n",
      "\n",
      "Shrink model to first 283 iterations.\n",
      "\n",
      "----------------- Fold 1 -----------------\n",
      "\n",
      "Learning rate set to 0.052157\n",
      "0:\tlearn: 80.7070346\ttest: 78.5884243\tbest: 78.5884243 (0)\ttotal: 33.7ms\tremaining: 33.6s\n",
      "100:\tlearn: 38.3495193\ttest: 42.7581307\tbest: 42.7462947 (97)\ttotal: 4.7s\tremaining: 41.8s\n",
      "200:\tlearn: 33.4274112\ttest: 42.2820443\tbest: 42.1469004 (150)\ttotal: 9.4s\tremaining: 37.4s\n",
      "Stopped by overfitting detector  (100 iterations wait)\n",
      "\n",
      "bestTest = 42.14690043\n",
      "bestIteration = 150\n",
      "\n",
      "Shrink model to first 151 iterations.\n",
      "\n",
      "----------------- Fold 2 -----------------\n",
      "\n",
      "Learning rate set to 0.052164\n",
      "0:\tlearn: 81.1884327\ttest: 76.2054041\tbest: 76.2054041 (0)\ttotal: 24ms\tremaining: 24s\n",
      "100:\tlearn: 40.0732162\ttest: 41.0447341\tbest: 41.0447341 (100)\ttotal: 4.3s\tremaining: 38.3s\n",
      "200:\tlearn: 34.8663009\ttest: 39.7456889\tbest: 39.7430028 (199)\ttotal: 8.78s\tremaining: 34.9s\n",
      "300:\tlearn: 31.1841314\ttest: 39.4278013\tbest: 39.4146263 (295)\ttotal: 13.3s\tremaining: 31s\n",
      "400:\tlearn: 28.2919965\ttest: 39.3756167\tbest: 39.3072114 (390)\ttotal: 18s\tremaining: 26.9s\n",
      "Stopped by overfitting detector  (100 iterations wait)\n",
      "\n",
      "bestTest = 39.30721135\n",
      "bestIteration = 390\n",
      "\n",
      "Shrink model to first 391 iterations.\n",
      "\n",
      "----------------- Fold 3 -----------------\n",
      "\n",
      "Learning rate set to 0.052164\n",
      "0:\tlearn: 79.0087953\ttest: 85.1950064\tbest: 85.1950064 (0)\ttotal: 52.3ms\tremaining: 52.3s\n",
      "100:\tlearn: 39.4443035\ttest: 43.5289090\tbest: 43.5289090 (100)\ttotal: 4.55s\tremaining: 40.5s\n",
      "200:\tlearn: 34.2559384\ttest: 42.0888685\tbest: 42.0586121 (193)\ttotal: 9.25s\tremaining: 36.8s\n",
      "300:\tlearn: 30.8549666\ttest: 41.6534774\tbest: 41.6376860 (294)\ttotal: 13.8s\tremaining: 32.1s\n",
      "400:\tlearn: 28.2067334\ttest: 41.1774992\tbest: 41.1747241 (391)\ttotal: 18.3s\tremaining: 27.4s\n",
      "500:\tlearn: 25.8664472\ttest: 41.1566494\tbest: 41.0562605 (456)\ttotal: 23s\tremaining: 22.9s\n",
      "Stopped by overfitting detector  (100 iterations wait)\n",
      "\n",
      "bestTest = 41.05626049\n",
      "bestIteration = 456\n",
      "\n",
      "Shrink model to first 457 iterations.\n",
      "\n",
      "----------------- Fold 4 -----------------\n",
      "\n",
      "Learning rate set to 0.052164\n",
      "0:\tlearn: 80.4799101\ttest: 79.1747519\tbest: 79.1747519 (0)\ttotal: 27.4ms\tremaining: 27.4s\n",
      "100:\tlearn: 40.2336132\ttest: 41.4005562\tbest: 41.4005562 (100)\ttotal: 4.67s\tremaining: 41.6s\n",
      "200:\tlearn: 35.1739697\ttest: 40.1158548\tbest: 40.0994377 (197)\ttotal: 10.6s\tremaining: 42.3s\n",
      "300:\tlearn: 31.8041700\ttest: 39.6861256\tbest: 39.6801327 (293)\ttotal: 16.2s\tremaining: 37.7s\n",
      "400:\tlearn: 28.9798356\ttest: 39.4483944\tbest: 39.4345030 (395)\ttotal: 21.2s\tremaining: 31.6s\n",
      "500:\tlearn: 26.4585868\ttest: 38.9326472\tbest: 38.9326472 (500)\ttotal: 26.2s\tremaining: 26.1s\n",
      "600:\tlearn: 24.2670290\ttest: 38.6020107\tbest: 38.6020107 (600)\ttotal: 31s\tremaining: 20.6s\n",
      "700:\tlearn: 22.4641437\ttest: 38.5995632\tbest: 38.5795591 (628)\ttotal: 36.1s\tremaining: 15.4s\n",
      "800:\tlearn: 20.9109117\ttest: 38.5637171\tbest: 38.5197106 (725)\ttotal: 40.8s\tremaining: 10.1s\n",
      "Stopped by overfitting detector  (100 iterations wait)\n",
      "\n",
      "bestTest = 38.51971057\n",
      "bestIteration = 725\n",
      "\n",
      "Shrink model to first 726 iterations.\n"
     ]
    }
   ],
   "source": [
    "for fold in range(n_fold):\n",
    "    print(f'\\n----------------- Fold {fold} -----------------\\n')\n",
    "    train_idx, valid_idx = folds[fold]\n",
    "    X_train, X_valid, y_train, y_valid = X.iloc[train_idx], X.iloc[valid_idx], y[train_idx], y[valid_idx]\n",
    "    train_data = Pool(data=X_train, label=y_train, cat_features=cat)\n",
    "    valid_data = Pool(data=X_valid, label=y_valid, cat_features=cat)\n",
    "\n",
    "    model_cat = CatBoostRegressor()\n",
    "    model_cat.fit(train_data, eval_set=valid_data, use_best_model=True, early_stopping_rounds=100, verbose=100)\n",
    "\n",
    "    cat_pred[valid_idx] = model_cat.predict(X_valid)\n",
    "    cat_pred_test += model_cat.predict(X_test) / n_fold"
   ]
  },
  {
   "cell_type": "code",
   "execution_count": 277,
   "id": "700d7dd8",
   "metadata": {},
   "outputs": [],
   "source": [
    "sub['count'] = cat_pred_test"
   ]
  },
  {
   "cell_type": "code",
   "execution_count": 279,
   "id": "b061aacf",
   "metadata": {},
   "outputs": [],
   "source": [
    "sub.to_csv('cat.csv', index = False)"
   ]
  },
  {
   "cell_type": "code",
   "execution_count": null,
   "id": "efcff3b9",
   "metadata": {},
   "outputs": [],
   "source": []
  }
 ],
 "metadata": {
  "kernelspec": {
   "display_name": "Python 3 (ipykernel)",
   "language": "python",
   "name": "python3"
  },
  "language_info": {
   "codemirror_mode": {
    "name": "ipython",
    "version": 3
   },
   "file_extension": ".py",
   "mimetype": "text/x-python",
   "name": "python",
   "nbconvert_exporter": "python",
   "pygments_lexer": "ipython3",
   "version": "3.8.16"
  }
 },
 "nbformat": 4,
 "nbformat_minor": 5
}
